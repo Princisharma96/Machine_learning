{
 "cells": [
  {
   "cell_type": "code",
   "execution_count": 1,
   "metadata": {},
   "outputs": [
    {
     "data": {
      "text/plain": [
       "0.0303030303030303"
      ]
     },
     "execution_count": 1,
     "metadata": {},
     "output_type": "execute_result"
    }
   ],
   "source": [
    "# question 1\n",
    "def probability(proA,proB,AB):\n",
    "  x = proA\n",
    "  y = proB\n",
    "  z = AB\n",
    "  BA = (z * y) / x\n",
    "  return BA\n",
    "probability(11/36 , 6/36 , 2/36)"
   ]
  },
  {
   "cell_type": "code",
   "execution_count": 2,
   "metadata": {},
   "outputs": [
    {
     "name": "stdout",
     "output_type": "stream",
     "text": [
      "0.5833333333333334\n"
     ]
    }
   ],
   "source": [
    "# question 2\n",
    "bag1 = 1/2\n",
    "bag2 = 1/2\n",
    "blackballbag1 = 6/10\n",
    "blackballbag2 = 3/7\n",
    "prob = (bag1 * blackballbag1) / ((bag1 * blackballbag1) + (bag2 * blackballbag2))\n",
    "print (prob)"
   ]
  },
  {
   "cell_type": "code",
   "execution_count": 6,
   "metadata": {},
   "outputs": [
    {
     "name": "stdout",
     "output_type": "stream",
     "text": [
      "0.2857142857142857\n"
     ]
    }
   ],
   "source": [
    "# question 3\n",
    "truth = 2/3\n",
    "lie = 1/3\n",
    "four = 1/6\n",
    "nofour = 5/6\n",
    "prob = (truth * four) / ((truth * four) + (lie * nofour))\n",
    "print (prob)"
   ]
  },
  {
   "cell_type": "code",
   "execution_count": null,
   "metadata": {},
   "outputs": [],
   "source": []
  }
 ],
 "metadata": {
  "kernelspec": {
   "display_name": "Python 3",
   "language": "python",
   "name": "python3"
  },
  "language_info": {
   "codemirror_mode": {
    "name": "ipython",
    "version": 3
   },
   "file_extension": ".py",
   "mimetype": "text/x-python",
   "name": "python",
   "nbconvert_exporter": "python",
   "pygments_lexer": "ipython3",
   "version": "3.6.5"
  }
 },
 "nbformat": 4,
 "nbformat_minor": 2
}
