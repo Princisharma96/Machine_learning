{
 "cells": [
  {
   "cell_type": "code",
   "execution_count": 134,
   "metadata": {},
   "outputs": [],
   "source": [
    "import pandas as pd\n",
    "from sklearn.svm import SVC\n",
    "from sklearn.datasets import load_digits \n",
    "from sklearn import datasets\n",
    "from sklearn.metrics import accuracy_score"
   ]
  },
  {
   "cell_type": "code",
   "execution_count": 135,
   "metadata": {},
   "outputs": [],
   "source": [
    "digits=load_digits()\n",
    "x=digits.data\n",
    "y=digits.target"
   ]
  },
  {
   "cell_type": "code",
   "execution_count": 136,
   "metadata": {},
   "outputs": [],
   "source": [
    "from sklearn.model_selection import train_test_split"
   ]
  },
  {
   "cell_type": "code",
   "execution_count": 137,
   "metadata": {},
   "outputs": [],
   "source": [
    "X_train,X_test,Y_train,Y_test = train_test_split(x,y,test_size = 0.3)"
   ]
  },
  {
   "cell_type": "markdown",
   "metadata": {},
   "source": [
    "kernel='linear'"
   ]
  },
  {
   "cell_type": "code",
   "execution_count": 162,
   "metadata": {},
   "outputs": [],
   "source": [
    "model1=SVC(kernel='linear')"
   ]
  },
  {
   "cell_type": "code",
   "execution_count": 163,
   "metadata": {},
   "outputs": [
    {
     "data": {
      "text/plain": [
       "SVC(C=1.0, cache_size=200, class_weight=None, coef0=0.0,\n",
       "  decision_function_shape='ovr', degree=3, gamma='auto', kernel='linear',\n",
       "  max_iter=-1, probability=False, random_state=None, shrinking=True,\n",
       "  tol=0.001, verbose=False)"
      ]
     },
     "execution_count": 163,
     "metadata": {},
     "output_type": "execute_result"
    }
   ],
   "source": [
    "model1.fit(X_train,Y_train)"
   ]
  },
  {
   "cell_type": "code",
   "execution_count": 164,
   "metadata": {},
   "outputs": [
    {
     "data": {
      "text/plain": [
       "array([2, 8, 8, 7, 9, 9, 2, 7, 7, 7, 2, 7, 2, 7, 8, 0, 3, 1, 1, 0, 3, 3,\n",
       "       1, 4, 0, 0, 9, 9, 1, 1, 7, 1, 1, 2, 5, 2, 3, 9, 4, 9, 9, 3, 2, 4,\n",
       "       2, 5, 3, 7, 4, 0, 9, 1, 3, 5, 6, 6, 1, 5, 8, 3, 1, 7, 5, 9, 4, 5,\n",
       "       1, 7, 3, 9, 6, 1, 0, 1, 6, 0, 4, 9, 4, 6, 2, 2, 4, 3, 2, 9, 2, 5,\n",
       "       3, 4, 6, 2, 5, 6, 2, 2, 7, 8, 3, 1, 0, 1, 2, 8, 9, 5, 5, 1, 9, 1,\n",
       "       4, 2, 8, 0, 2, 2, 7, 0, 6, 1, 5, 7, 3, 9, 0, 5, 4, 4, 2, 6, 7, 6,\n",
       "       1, 2, 4, 8, 6, 4, 1, 3, 1, 6, 7, 4, 4, 9, 2, 6, 5, 9, 4, 3, 4, 2,\n",
       "       9, 5, 4, 4, 8, 9, 8, 3, 9, 0, 0, 1, 2, 8, 6, 0, 2, 9, 6, 2, 0, 2,\n",
       "       1, 2, 8, 7, 7, 0, 8, 6, 4, 0, 8, 4, 6, 3, 7, 0, 8, 2, 7, 5, 3, 1,\n",
       "       1, 6, 9, 5, 0, 4, 2, 7, 1, 6, 2, 9, 1, 9, 7, 1, 3, 4, 5, 9, 0, 9,\n",
       "       1, 9, 3, 1, 4, 0, 7, 5, 1, 0, 0, 9, 0, 9, 6, 3, 2, 1, 8, 4, 0, 8,\n",
       "       9, 8, 6, 0, 1, 2, 7, 1, 5, 7, 9, 9, 2, 3, 2, 4, 2, 2, 3, 0, 1, 6,\n",
       "       2, 3, 2, 3, 5, 4, 0, 6, 7, 5, 8, 8, 4, 2, 5, 7, 0, 1, 7, 6, 0, 6,\n",
       "       1, 9, 3, 7, 5, 9, 5, 9, 8, 0, 2, 4, 4, 8, 4, 3, 2, 5, 0, 2, 7, 0,\n",
       "       0, 4, 5, 4, 7, 5, 7, 1, 4, 1, 9, 6, 2, 6, 5, 4, 8, 7, 7, 6, 1, 3,\n",
       "       8, 9, 1, 0, 3, 5, 2, 9, 3, 1, 8, 8, 5, 2, 1, 0, 6, 7, 4, 0, 1, 2,\n",
       "       2, 8, 5, 3, 9, 2, 6, 4, 5, 9, 7, 8, 3, 4, 8, 6, 1, 2, 5, 5, 5, 5,\n",
       "       3, 1, 6, 5, 7, 9, 6, 2, 3, 4, 1, 8, 8, 4, 0, 2, 8, 7, 9, 5, 4, 5,\n",
       "       7, 2, 6, 3, 8, 4, 0, 0, 5, 6, 5, 4, 3, 6, 4, 2, 9, 8, 9, 9, 5, 5,\n",
       "       6, 8, 6, 5, 0, 4, 8, 0, 2, 2, 9, 8, 4, 5, 9, 9, 1, 8, 7, 7, 8, 0,\n",
       "       6, 8, 6, 3, 8, 3, 7, 9, 5, 6, 3, 5, 5, 6, 0, 5, 4, 8, 4, 8, 1, 4,\n",
       "       8, 0, 0, 5, 8, 3, 2, 3, 1, 8, 6, 5, 3, 1, 4, 2, 4, 7, 3, 2, 6, 7,\n",
       "       8, 2, 7, 9, 1, 5, 9, 4, 4, 5, 4, 4, 3, 9, 1, 0, 2, 8, 0, 3, 1, 9,\n",
       "       3, 5, 6, 8, 2, 9, 3, 4, 9, 2, 8, 8, 6, 3, 3, 7, 1, 5, 7, 9, 5, 2,\n",
       "       9, 7, 0, 2, 9, 5, 4, 9, 5, 3, 7, 8])"
      ]
     },
     "execution_count": 164,
     "metadata": {},
     "output_type": "execute_result"
    }
   ],
   "source": [
    "pred1=model1.predict(X_test)\n",
    "pred1"
   ]
  },
  {
   "cell_type": "code",
   "execution_count": 165,
   "metadata": {},
   "outputs": [
    {
     "data": {
      "text/plain": [
       "0.9777777777777777"
      ]
     },
     "execution_count": 165,
     "metadata": {},
     "output_type": "execute_result"
    }
   ],
   "source": [
    "metrics.accuracy_score(Y_test,pred1)"
   ]
  },
  {
   "cell_type": "code",
   "execution_count": 166,
   "metadata": {},
   "outputs": [
    {
     "name": "stdout",
     "output_type": "stream",
     "text": [
      "[[49  0  0  0  0  0  0  0  0  0]\n",
      " [ 0 54  0  0  0  0  0  0  1  0]\n",
      " [ 0  1 65  0  0  0  0  0  0  0]\n",
      " [ 0  0  0 50  0  0  0  0  0  1]\n",
      " [ 0  0  0  0 56  0  0  0  1  0]\n",
      " [ 0  0  0  0  0 57  0  0  0  1]\n",
      " [ 0  0  0  0  1  0 46  0  0  0]\n",
      " [ 0  0  0  0  0  0  0 45  0  0]\n",
      " [ 0  0  0  0  1  0  0  1 50  1]\n",
      " [ 0  0  0  0  0  1  0  2  0 56]]\n"
     ]
    }
   ],
   "source": [
    "print(metrics.confusion_matrix(Y_test,pred1))"
   ]
  },
  {
   "cell_type": "code",
   "execution_count": 167,
   "metadata": {},
   "outputs": [
    {
     "name": "stdout",
     "output_type": "stream",
     "text": [
      "             precision    recall  f1-score   support\n",
      "\n",
      "          0       1.00      1.00      1.00        49\n",
      "          1       0.98      0.98      0.98        55\n",
      "          2       1.00      0.98      0.99        66\n",
      "          3       1.00      0.98      0.99        51\n",
      "          4       0.97      0.98      0.97        57\n",
      "          5       0.98      0.98      0.98        58\n",
      "          6       1.00      0.98      0.99        47\n",
      "          7       0.94      1.00      0.97        45\n",
      "          8       0.96      0.94      0.95        53\n",
      "          9       0.95      0.95      0.95        59\n",
      "\n",
      "avg / total       0.98      0.98      0.98       540\n",
      "\n"
     ]
    }
   ],
   "source": [
    "print(metrics.classification_report(Y_test,pred1))"
   ]
  },
  {
   "cell_type": "markdown",
   "metadata": {},
   "source": [
    "kernel='rbf'"
   ]
  },
  {
   "cell_type": "code",
   "execution_count": 169,
   "metadata": {},
   "outputs": [],
   "source": [
    "model2=SVC(kernel='rbf')"
   ]
  },
  {
   "cell_type": "code",
   "execution_count": 170,
   "metadata": {},
   "outputs": [
    {
     "data": {
      "text/plain": [
       "SVC(C=1.0, cache_size=200, class_weight=None, coef0=0.0,\n",
       "  decision_function_shape='ovr', degree=3, gamma='auto', kernel='rbf',\n",
       "  max_iter=-1, probability=False, random_state=None, shrinking=True,\n",
       "  tol=0.001, verbose=False)"
      ]
     },
     "execution_count": 170,
     "metadata": {},
     "output_type": "execute_result"
    }
   ],
   "source": [
    "model2.fit(X_train,Y_train)"
   ]
  },
  {
   "cell_type": "code",
   "execution_count": 171,
   "metadata": {},
   "outputs": [
    {
     "data": {
      "text/plain": [
       "array([3, 8, 3, 7, 9, 3, 3, 7, 7, 3, 3, 7, 3, 7, 3, 0, 3, 3, 1, 0, 3, 3,\n",
       "       3, 4, 3, 0, 3, 9, 1, 3, 7, 3, 1, 3, 3, 2, 3, 9, 3, 3, 3, 3, 3, 3,\n",
       "       3, 5, 3, 7, 3, 3, 3, 1, 3, 5, 3, 6, 3, 5, 3, 3, 1, 7, 3, 3, 3, 3,\n",
       "       1, 7, 3, 3, 3, 3, 0, 3, 6, 3, 3, 3, 3, 3, 3, 3, 4, 3, 3, 3, 3, 3,\n",
       "       3, 3, 6, 3, 3, 6, 3, 3, 7, 3, 3, 3, 3, 3, 3, 3, 3, 3, 5, 1, 3, 3,\n",
       "       3, 3, 3, 0, 3, 3, 7, 0, 3, 3, 3, 7, 3, 3, 3, 3, 3, 3, 3, 6, 7, 3,\n",
       "       3, 3, 3, 3, 6, 3, 1, 3, 3, 3, 7, 4, 4, 3, 3, 6, 3, 3, 3, 3, 4, 3,\n",
       "       3, 5, 3, 3, 3, 3, 3, 3, 3, 0, 0, 3, 3, 3, 6, 3, 3, 3, 6, 3, 3, 3,\n",
       "       3, 3, 3, 7, 7, 0, 3, 6, 3, 3, 3, 3, 3, 3, 3, 0, 3, 3, 7, 3, 3, 1,\n",
       "       3, 6, 3, 3, 0, 4, 2, 3, 3, 6, 2, 3, 3, 3, 3, 1, 3, 3, 3, 3, 3, 9,\n",
       "       3, 3, 3, 1, 3, 3, 3, 3, 1, 3, 0, 3, 3, 3, 3, 3, 3, 3, 3, 4, 0, 3,\n",
       "       3, 3, 6, 0, 1, 3, 3, 3, 3, 7, 3, 3, 3, 3, 2, 4, 3, 3, 3, 0, 3, 6,\n",
       "       3, 3, 3, 3, 3, 4, 3, 3, 3, 3, 3, 3, 4, 3, 5, 3, 3, 3, 7, 6, 0, 3,\n",
       "       3, 3, 3, 7, 3, 9, 3, 3, 8, 3, 3, 3, 3, 3, 3, 3, 3, 3, 3, 3, 7, 3,\n",
       "       0, 3, 3, 3, 3, 3, 7, 3, 3, 1, 3, 3, 3, 6, 3, 4, 3, 3, 7, 6, 1, 3,\n",
       "       3, 3, 3, 3, 3, 3, 3, 3, 3, 1, 3, 3, 3, 2, 1, 0, 3, 7, 3, 0, 3, 3,\n",
       "       3, 3, 3, 3, 3, 3, 6, 3, 3, 3, 3, 3, 3, 4, 3, 6, 3, 3, 5, 3, 3, 5,\n",
       "       3, 3, 3, 3, 7, 3, 3, 3, 3, 4, 3, 3, 3, 3, 3, 3, 3, 7, 3, 5, 3, 3,\n",
       "       3, 3, 6, 3, 3, 3, 0, 0, 5, 6, 3, 4, 3, 3, 3, 2, 3, 3, 3, 3, 3, 3,\n",
       "       6, 3, 6, 3, 0, 3, 3, 0, 3, 3, 3, 3, 3, 3, 3, 3, 3, 3, 7, 7, 3, 0,\n",
       "       3, 3, 6, 3, 3, 3, 7, 3, 3, 6, 3, 3, 3, 6, 0, 3, 3, 8, 3, 3, 3, 4,\n",
       "       3, 0, 3, 5, 3, 3, 3, 3, 1, 3, 6, 3, 3, 3, 3, 3, 3, 3, 3, 2, 6, 3,\n",
       "       3, 3, 7, 3, 3, 3, 9, 3, 4, 3, 3, 4, 3, 3, 3, 3, 3, 3, 0, 3, 1, 3,\n",
       "       3, 3, 6, 3, 3, 3, 3, 3, 3, 3, 3, 3, 6, 3, 3, 7, 3, 3, 7, 3, 3, 3,\n",
       "       3, 7, 0, 3, 3, 3, 3, 9, 3, 3, 7, 3])"
      ]
     },
     "execution_count": 171,
     "metadata": {},
     "output_type": "execute_result"
    }
   ],
   "source": [
    "pred2=model2.predict(X_test)\n",
    "pred2"
   ]
  },
  {
   "cell_type": "code",
   "execution_count": 172,
   "metadata": {},
   "outputs": [
    {
     "data": {
      "text/plain": [
       "0.38333333333333336"
      ]
     },
     "execution_count": 172,
     "metadata": {},
     "output_type": "execute_result"
    }
   ],
   "source": [
    "accuracy_score(Y_test,pred2)"
   ]
  },
  {
   "cell_type": "code",
   "execution_count": 173,
   "metadata": {},
   "outputs": [
    {
     "name": "stdout",
     "output_type": "stream",
     "text": [
      "[[28  0  0 21  0  0  0  0  0  0]\n",
      " [ 0 19  0 36  0  0  0  0  0  0]\n",
      " [ 0  0  7 59  0  0  0  0  0  0]\n",
      " [ 0  0  0 51  0  0  0  0  0  0]\n",
      " [ 0  0  0 40 17  0  0  0  0  0]\n",
      " [ 0  0  0 47  0 11  0  0  0  0]\n",
      " [ 0  0  0 17  0  0 30  0  0  0]\n",
      " [ 0  0  0 11  0  0  0 34  0  0]\n",
      " [ 0  0  0 50  0  0  0  0  3  0]\n",
      " [ 0  0  0 52  0  0  0  0  0  7]]\n"
     ]
    }
   ],
   "source": [
    "print(metrics.confusion_matrix(Y_test,pred2))"
   ]
  },
  {
   "cell_type": "code",
   "execution_count": 174,
   "metadata": {},
   "outputs": [
    {
     "name": "stdout",
     "output_type": "stream",
     "text": [
      "             precision    recall  f1-score   support\n",
      "\n",
      "          0       1.00      0.57      0.73        49\n",
      "          1       1.00      0.35      0.51        55\n",
      "          2       1.00      0.11      0.19        66\n",
      "          3       0.13      1.00      0.23        51\n",
      "          4       1.00      0.30      0.46        57\n",
      "          5       1.00      0.19      0.32        58\n",
      "          6       1.00      0.64      0.78        47\n",
      "          7       1.00      0.76      0.86        45\n",
      "          8       1.00      0.06      0.11        53\n",
      "          9       1.00      0.12      0.21        59\n",
      "\n",
      "avg / total       0.92      0.38      0.42       540\n",
      "\n"
     ]
    }
   ],
   "source": [
    "print(metrics.classification_report(Y_test,pred2))"
   ]
  },
  {
   "cell_type": "markdown",
   "metadata": {},
   "source": [
    "kernel='poly'"
   ]
  },
  {
   "cell_type": "code",
   "execution_count": 175,
   "metadata": {},
   "outputs": [],
   "source": [
    "model3=SVC(kernel='poly', C=0.9 ,gamma=0.7 )"
   ]
  },
  {
   "cell_type": "code",
   "execution_count": 176,
   "metadata": {},
   "outputs": [
    {
     "data": {
      "text/plain": [
       "SVC(C=0.9, cache_size=200, class_weight=None, coef0=0.0,\n",
       "  decision_function_shape='ovr', degree=3, gamma=0.7, kernel='poly',\n",
       "  max_iter=-1, probability=False, random_state=None, shrinking=True,\n",
       "  tol=0.001, verbose=False)"
      ]
     },
     "execution_count": 176,
     "metadata": {},
     "output_type": "execute_result"
    }
   ],
   "source": [
    "model3.fit(X_train,Y_train)"
   ]
  },
  {
   "cell_type": "code",
   "execution_count": 177,
   "metadata": {},
   "outputs": [
    {
     "data": {
      "text/plain": [
       "array([2, 8, 8, 7, 9, 9, 2, 7, 7, 7, 2, 7, 2, 7, 8, 0, 3, 1, 1, 0, 3, 3,\n",
       "       2, 4, 0, 0, 9, 9, 1, 1, 7, 1, 1, 2, 5, 2, 3, 9, 4, 9, 9, 3, 2, 4,\n",
       "       2, 5, 3, 7, 4, 0, 9, 1, 3, 5, 6, 6, 1, 5, 8, 3, 1, 7, 5, 9, 4, 5,\n",
       "       1, 7, 3, 9, 6, 1, 0, 1, 6, 0, 4, 9, 4, 6, 2, 2, 4, 3, 2, 9, 2, 5,\n",
       "       3, 4, 6, 2, 5, 6, 2, 2, 7, 8, 3, 1, 0, 1, 2, 8, 9, 5, 5, 1, 9, 1,\n",
       "       4, 2, 8, 0, 2, 2, 7, 0, 6, 1, 5, 7, 3, 9, 0, 5, 8, 4, 2, 6, 7, 6,\n",
       "       1, 2, 4, 8, 6, 4, 1, 3, 1, 6, 7, 4, 4, 9, 2, 6, 5, 9, 4, 3, 4, 2,\n",
       "       9, 5, 4, 4, 8, 9, 8, 3, 9, 0, 0, 1, 2, 8, 6, 0, 2, 9, 6, 2, 0, 2,\n",
       "       1, 2, 8, 7, 7, 0, 8, 6, 4, 0, 8, 4, 6, 3, 8, 0, 8, 2, 7, 5, 3, 1,\n",
       "       1, 6, 9, 5, 0, 4, 2, 7, 1, 6, 2, 9, 1, 9, 7, 1, 3, 4, 5, 9, 0, 9,\n",
       "       1, 9, 3, 1, 4, 0, 7, 5, 1, 0, 0, 9, 0, 9, 6, 3, 2, 1, 8, 4, 0, 8,\n",
       "       9, 8, 6, 0, 1, 2, 7, 1, 5, 7, 9, 9, 2, 3, 2, 4, 2, 2, 3, 0, 1, 6,\n",
       "       2, 3, 2, 3, 5, 4, 0, 6, 7, 5, 8, 8, 4, 2, 5, 9, 0, 1, 7, 6, 0, 6,\n",
       "       1, 3, 3, 7, 5, 9, 5, 9, 8, 0, 2, 4, 4, 8, 4, 3, 2, 5, 0, 2, 7, 0,\n",
       "       0, 4, 5, 4, 7, 5, 7, 1, 4, 1, 9, 6, 2, 6, 5, 4, 8, 7, 7, 6, 1, 3,\n",
       "       8, 9, 1, 0, 3, 5, 2, 9, 3, 1, 8, 1, 5, 2, 1, 0, 6, 7, 4, 0, 1, 2,\n",
       "       2, 8, 5, 3, 9, 2, 6, 4, 5, 9, 7, 8, 3, 4, 8, 6, 1, 2, 5, 5, 5, 5,\n",
       "       3, 1, 6, 5, 7, 9, 6, 2, 3, 4, 1, 8, 4, 4, 0, 2, 8, 7, 9, 5, 4, 5,\n",
       "       7, 2, 6, 3, 8, 4, 0, 0, 5, 6, 5, 4, 3, 6, 4, 2, 9, 8, 9, 9, 5, 5,\n",
       "       6, 8, 6, 5, 0, 4, 8, 0, 2, 2, 9, 8, 4, 5, 9, 9, 1, 8, 7, 7, 8, 0,\n",
       "       6, 8, 6, 3, 8, 3, 7, 9, 5, 6, 3, 5, 5, 6, 0, 5, 4, 8, 4, 8, 1, 4,\n",
       "       8, 0, 0, 5, 8, 3, 2, 3, 1, 8, 6, 5, 3, 1, 6, 2, 4, 7, 3, 2, 6, 7,\n",
       "       8, 2, 7, 9, 1, 5, 9, 4, 4, 5, 4, 4, 3, 9, 1, 0, 2, 8, 0, 3, 1, 9,\n",
       "       3, 5, 6, 8, 2, 9, 3, 4, 9, 2, 8, 8, 6, 3, 3, 7, 1, 5, 7, 9, 5, 2,\n",
       "       9, 7, 0, 2, 9, 5, 4, 9, 5, 3, 7, 8])"
      ]
     },
     "execution_count": 177,
     "metadata": {},
     "output_type": "execute_result"
    }
   ],
   "source": [
    "pred3=model3.predict(X_test)\n",
    "pred3"
   ]
  },
  {
   "cell_type": "code",
   "execution_count": 178,
   "metadata": {},
   "outputs": [
    {
     "data": {
      "text/plain": [
       "0.9925925925925926"
      ]
     },
     "execution_count": 178,
     "metadata": {},
     "output_type": "execute_result"
    }
   ],
   "source": [
    "accuracy_score(Y_test,pred3)"
   ]
  },
  {
   "cell_type": "code",
   "execution_count": 179,
   "metadata": {},
   "outputs": [
    {
     "name": "stdout",
     "output_type": "stream",
     "text": [
      "[[49  0  0  0  0  0  0  0  0  0]\n",
      " [ 0 55  0  0  0  0  0  0  0  0]\n",
      " [ 0  0 66  0  0  0  0  0  0  0]\n",
      " [ 0  0  0 51  0  0  0  0  0  0]\n",
      " [ 0  0  0  0 57  0  0  0  0  0]\n",
      " [ 0  0  0  0  0 57  0  0  0  1]\n",
      " [ 0  0  0  0  0  0 47  0  0  0]\n",
      " [ 0  0  0  0  0  0  0 45  0  0]\n",
      " [ 0  0  0  0  0  0  0  0 52  1]\n",
      " [ 0  0  0  0  0  1  0  1  0 57]]\n"
     ]
    }
   ],
   "source": [
    "print(metrics.confusion_matrix(Y_test,pred3))"
   ]
  },
  {
   "cell_type": "code",
   "execution_count": 180,
   "metadata": {},
   "outputs": [
    {
     "name": "stdout",
     "output_type": "stream",
     "text": [
      "             precision    recall  f1-score   support\n",
      "\n",
      "          0       1.00      1.00      1.00        49\n",
      "          1       1.00      1.00      1.00        55\n",
      "          2       1.00      1.00      1.00        66\n",
      "          3       1.00      1.00      1.00        51\n",
      "          4       1.00      1.00      1.00        57\n",
      "          5       0.98      0.98      0.98        58\n",
      "          6       1.00      1.00      1.00        47\n",
      "          7       0.98      1.00      0.99        45\n",
      "          8       1.00      0.98      0.99        53\n",
      "          9       0.97      0.97      0.97        59\n",
      "\n",
      "avg / total       0.99      0.99      0.99       540\n",
      "\n"
     ]
    }
   ],
   "source": [
    "print(metrics.classification_report(Y_test,pred3))"
   ]
  },
  {
   "cell_type": "markdown",
   "metadata": {},
   "source": [
    "kernel='sigmoid'"
   ]
  },
  {
   "cell_type": "code",
   "execution_count": 181,
   "metadata": {},
   "outputs": [],
   "source": [
    "model4=SVC(kernel='sigmoid')"
   ]
  },
  {
   "cell_type": "code",
   "execution_count": 182,
   "metadata": {},
   "outputs": [
    {
     "data": {
      "text/plain": [
       "SVC(C=1.0, cache_size=200, class_weight=None, coef0=0.0,\n",
       "  decision_function_shape='ovr', degree=3, gamma='auto', kernel='sigmoid',\n",
       "  max_iter=-1, probability=False, random_state=None, shrinking=True,\n",
       "  tol=0.001, verbose=False)"
      ]
     },
     "execution_count": 182,
     "metadata": {},
     "output_type": "execute_result"
    }
   ],
   "source": [
    "model4.fit(X_train,Y_train)"
   ]
  },
  {
   "cell_type": "code",
   "execution_count": 183,
   "metadata": {},
   "outputs": [
    {
     "data": {
      "text/plain": [
       "array([7, 7, 7, 7, 7, 7, 7, 7, 7, 7, 7, 7, 7, 7, 7, 7, 7, 7, 7, 7, 7, 7,\n",
       "       7, 7, 7, 7, 7, 7, 7, 7, 7, 7, 7, 7, 7, 7, 7, 7, 7, 7, 7, 7, 7, 7,\n",
       "       7, 7, 7, 7, 7, 7, 7, 7, 7, 7, 7, 7, 7, 7, 7, 7, 7, 7, 7, 7, 7, 7,\n",
       "       7, 7, 7, 7, 7, 7, 7, 7, 7, 7, 7, 7, 7, 7, 7, 7, 7, 7, 7, 7, 7, 7,\n",
       "       7, 7, 7, 7, 7, 7, 7, 7, 7, 7, 7, 7, 7, 7, 7, 7, 7, 7, 7, 7, 7, 7,\n",
       "       7, 7, 7, 7, 7, 7, 7, 7, 7, 7, 7, 7, 7, 7, 7, 7, 7, 7, 7, 7, 7, 7,\n",
       "       7, 7, 7, 7, 7, 7, 7, 7, 7, 7, 7, 7, 7, 7, 7, 6, 7, 7, 7, 7, 7, 7,\n",
       "       7, 7, 7, 7, 7, 7, 7, 7, 7, 7, 7, 7, 7, 7, 7, 7, 7, 7, 7, 7, 7, 7,\n",
       "       7, 7, 7, 7, 7, 7, 7, 7, 7, 7, 7, 7, 7, 7, 7, 7, 7, 7, 7, 7, 7, 7,\n",
       "       7, 7, 7, 7, 7, 7, 7, 7, 7, 7, 7, 7, 7, 7, 7, 7, 7, 7, 7, 7, 7, 7,\n",
       "       7, 7, 7, 7, 7, 7, 7, 7, 7, 7, 7, 7, 7, 7, 7, 7, 7, 6, 7, 7, 7, 7,\n",
       "       7, 7, 7, 7, 7, 7, 7, 7, 7, 7, 7, 7, 7, 7, 7, 7, 7, 7, 7, 7, 7, 7,\n",
       "       7, 7, 7, 7, 7, 7, 7, 6, 7, 7, 7, 7, 7, 7, 7, 7, 7, 7, 7, 7, 7, 7,\n",
       "       7, 7, 7, 7, 7, 7, 7, 7, 7, 7, 7, 7, 7, 7, 7, 7, 7, 7, 7, 7, 7, 7,\n",
       "       7, 7, 7, 7, 7, 7, 7, 7, 7, 6, 7, 7, 7, 7, 7, 7, 7, 7, 7, 7, 7, 7,\n",
       "       7, 7, 7, 7, 7, 7, 7, 7, 7, 7, 7, 7, 7, 7, 7, 7, 7, 7, 7, 7, 7, 7,\n",
       "       7, 7, 7, 7, 7, 7, 7, 7, 7, 7, 7, 7, 7, 7, 7, 7, 7, 7, 7, 7, 7, 7,\n",
       "       7, 7, 7, 7, 7, 7, 7, 7, 7, 7, 7, 7, 7, 7, 7, 7, 7, 7, 7, 7, 7, 7,\n",
       "       7, 7, 7, 7, 7, 7, 7, 7, 7, 7, 7, 7, 7, 7, 7, 7, 7, 7, 7, 7, 7, 7,\n",
       "       7, 7, 7, 7, 7, 7, 7, 7, 7, 7, 7, 7, 7, 7, 7, 7, 7, 7, 7, 7, 7, 7,\n",
       "       7, 7, 7, 7, 7, 7, 7, 7, 7, 7, 7, 7, 7, 7, 7, 7, 7, 7, 7, 7, 7, 7,\n",
       "       7, 7, 7, 7, 7, 7, 7, 7, 7, 7, 7, 7, 7, 7, 7, 7, 7, 7, 7, 7, 7, 7,\n",
       "       7, 7, 7, 7, 7, 7, 7, 7, 7, 7, 7, 7, 7, 7, 7, 7, 7, 7, 7, 7, 7, 7,\n",
       "       7, 7, 7, 7, 7, 7, 7, 7, 7, 7, 7, 7, 7, 7, 7, 7, 7, 7, 7, 7, 7, 7,\n",
       "       7, 7, 7, 7, 7, 7, 7, 7, 7, 7, 7, 7])"
      ]
     },
     "execution_count": 183,
     "metadata": {},
     "output_type": "execute_result"
    }
   ],
   "source": [
    "pred4=model4.predict(X_test)\n",
    "pred4"
   ]
  },
  {
   "cell_type": "code",
   "execution_count": 184,
   "metadata": {},
   "outputs": [
    {
     "data": {
      "text/plain": [
       "0.08703703703703704"
      ]
     },
     "execution_count": 184,
     "metadata": {},
     "output_type": "execute_result"
    }
   ],
   "source": [
    "accuracy_score(Y_test,pred4)"
   ]
  },
  {
   "cell_type": "code",
   "execution_count": 185,
   "metadata": {},
   "outputs": [
    {
     "name": "stdout",
     "output_type": "stream",
     "text": [
      "[[ 0  0  0  0  0  0  0 49  0  0]\n",
      " [ 0  0  0  0  0  0  2 53  0  0]\n",
      " [ 0  0  0  0  0  0  0 66  0  0]\n",
      " [ 0  0  0  0  0  0  0 51  0  0]\n",
      " [ 0  0  0  0  0  0  0 57  0  0]\n",
      " [ 0  0  0  0  0  0  0 58  0  0]\n",
      " [ 0  0  0  0  0  0  2 45  0  0]\n",
      " [ 0  0  0  0  0  0  0 45  0  0]\n",
      " [ 0  0  0  0  0  0  0 53  0  0]\n",
      " [ 0  0  0  0  0  0  0 59  0  0]]\n"
     ]
    }
   ],
   "source": [
    "print(metrics.confusion_matrix(Y_test,pred4))"
   ]
  },
  {
   "cell_type": "code",
   "execution_count": 186,
   "metadata": {},
   "outputs": [
    {
     "name": "stdout",
     "output_type": "stream",
     "text": [
      "             precision    recall  f1-score   support\n",
      "\n",
      "          0       0.00      0.00      0.00        49\n",
      "          1       0.00      0.00      0.00        55\n",
      "          2       0.00      0.00      0.00        66\n",
      "          3       0.00      0.00      0.00        51\n",
      "          4       0.00      0.00      0.00        57\n",
      "          5       0.00      0.00      0.00        58\n",
      "          6       0.50      0.04      0.08        47\n",
      "          7       0.08      1.00      0.15        45\n",
      "          8       0.00      0.00      0.00        53\n",
      "          9       0.00      0.00      0.00        59\n",
      "\n",
      "avg / total       0.05      0.09      0.02       540\n",
      "\n"
     ]
    },
    {
     "name": "stderr",
     "output_type": "stream",
     "text": [
      "C:\\ProgramData\\Anaconda3\\lib\\site-packages\\sklearn\\metrics\\classification.py:1135: UndefinedMetricWarning: Precision and F-score are ill-defined and being set to 0.0 in labels with no predicted samples.\n",
      "  'precision', 'predicted', average, warn_for)\n"
     ]
    }
   ],
   "source": [
    "print(metrics.classification_report(Y_test,pred4))"
   ]
  }
 ],
 "metadata": {
  "kernelspec": {
   "display_name": "Python 3",
   "language": "python",
   "name": "python3"
  },
  "language_info": {
   "codemirror_mode": {
    "name": "ipython",
    "version": 3
   },
   "file_extension": ".py",
   "mimetype": "text/x-python",
   "name": "python",
   "nbconvert_exporter": "python",
   "pygments_lexer": "ipython3",
   "version": "3.6.5"
  }
 },
 "nbformat": 4,
 "nbformat_minor": 2
}
