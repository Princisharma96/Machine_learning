{
 "cells": [
  {
   "cell_type": "code",
   "execution_count": 8,
   "metadata": {},
   "outputs": [],
   "source": [
    "import pandas as pd\n",
    "import numpy as np\n",
    "import seaborn as sns\n",
    "from sklearn import preprocessing\n",
    "from sklearn.preprocessing import *\n",
    "from sklearn.datasets import load_digits\n",
    "from sklearn.neighbors import *;\n",
    "import matplotlib.pyplot as mlt\n",
    "%matplotlib inline"
   ]
  },
  {
   "cell_type": "code",
   "execution_count": 14,
   "metadata": {},
   "outputs": [
    {
     "data": {
      "text/plain": [
       "((1797, 64), (1797,))"
      ]
     },
     "execution_count": 14,
     "metadata": {},
     "output_type": "execute_result"
    }
   ],
   "source": [
    "digits=load_digits()\n",
    "x=digits.data\n",
    "y=digits.target\n",
    "x.shape, y.shape"
   ]
  },
  {
   "cell_type": "code",
   "execution_count": 15,
   "metadata": {},
   "outputs": [],
   "source": [
    "from sklearn.model_selection import train_test_split"
   ]
  },
  {
   "cell_type": "code",
   "execution_count": 16,
   "metadata": {},
   "outputs": [],
   "source": [
    "X_train,X_test,Y_train,Y_test = train_test_split(x,y,test_size = 0.2)"
   ]
  },
  {
   "cell_type": "code",
   "execution_count": 17,
   "metadata": {},
   "outputs": [],
   "source": [
    "knn=KNeighborsClassifier(n_neighbors=3)"
   ]
  },
  {
   "cell_type": "code",
   "execution_count": 18,
   "metadata": {},
   "outputs": [
    {
     "data": {
      "text/plain": [
       "KNeighborsClassifier(algorithm='auto', leaf_size=30, metric='minkowski',\n",
       "           metric_params=None, n_jobs=1, n_neighbors=3, p=2,\n",
       "           weights='uniform')"
      ]
     },
     "execution_count": 18,
     "metadata": {},
     "output_type": "execute_result"
    }
   ],
   "source": [
    "knn.fit(X_train,Y_train)"
   ]
  },
  {
   "cell_type": "code",
   "execution_count": 19,
   "metadata": {},
   "outputs": [
    {
     "data": {
      "text/plain": [
       "array([3, 5, 8, 3, 5, 3, 8, 2, 6, 3, 4, 7, 6, 8, 5, 5, 7, 1, 0, 7, 1, 7,\n",
       "       0, 2, 3, 0, 9, 6, 5, 5, 0, 0, 0, 3, 2, 6, 8, 4, 7, 6, 7, 9, 9, 8,\n",
       "       3, 5, 3, 2, 3, 7, 2, 7, 4, 8, 2, 7, 0, 4, 6, 7, 2, 3, 5, 3, 8, 7,\n",
       "       0, 7, 8, 8, 9, 4, 3, 8, 4, 3, 3, 1, 0, 0, 1, 2, 7, 4, 8, 4, 9, 2,\n",
       "       6, 4, 0, 0, 9, 9, 1, 5, 0, 4, 3, 0, 1, 6, 1, 1, 7, 8, 4, 6, 4, 3,\n",
       "       7, 1, 3, 2, 7, 7, 1, 3, 5, 4, 6, 7, 9, 3, 1, 6, 4, 6, 4, 0, 3, 5,\n",
       "       0, 3, 5, 5, 1, 7, 1, 6, 3, 1, 2, 3, 4, 0, 6, 9, 6, 0, 8, 7, 4, 2,\n",
       "       5, 4, 7, 8, 0, 1, 1, 1, 6, 2, 6, 6, 5, 5, 7, 9, 4, 7, 4, 3, 3, 3,\n",
       "       2, 6, 8, 4, 4, 5, 8, 6, 0, 2, 9, 9, 3, 7, 0, 7, 1, 7, 4, 3, 1, 6,\n",
       "       8, 5, 2, 3, 3, 1, 4, 5, 8, 2, 2, 4, 1, 9, 4, 0, 1, 1, 2, 6, 8, 9,\n",
       "       6, 1, 2, 2, 9, 0, 6, 4, 7, 1, 5, 0, 8, 1, 8, 1, 4, 6, 4, 9, 9, 3,\n",
       "       1, 2, 4, 3, 0, 4, 1, 2, 3, 6, 6, 4, 0, 5, 3, 2, 2, 2, 9, 8, 6, 0,\n",
       "       4, 6, 9, 1, 7, 0, 0, 4, 6, 3, 9, 0, 7, 9, 2, 1, 7, 3, 0, 5, 2, 0,\n",
       "       6, 5, 2, 9, 7, 7, 3, 2, 9, 2, 0, 1, 7, 9, 4, 9, 4, 3, 1, 4, 6, 3,\n",
       "       3, 1, 7, 2, 8, 9, 1, 5, 6, 1, 5, 1, 5, 8, 8, 1, 7, 6, 7, 7, 5, 2,\n",
       "       2, 3, 5, 8, 7, 0, 5, 9, 6, 3, 5, 6, 7, 4, 2, 2, 6, 1, 6, 6, 0, 0,\n",
       "       1, 7, 5, 2, 1, 6, 7, 5])"
      ]
     },
     "execution_count": 19,
     "metadata": {},
     "output_type": "execute_result"
    }
   ],
   "source": [
    "pred = knn.predict(X_test)\n",
    "pred"
   ]
  },
  {
   "cell_type": "code",
   "execution_count": 22,
   "metadata": {},
   "outputs": [
    {
     "data": {
      "text/html": [
       "<div>\n",
       "<style scoped>\n",
       "    .dataframe tbody tr th:only-of-type {\n",
       "        vertical-align: middle;\n",
       "    }\n",
       "\n",
       "    .dataframe tbody tr th {\n",
       "        vertical-align: top;\n",
       "    }\n",
       "\n",
       "    .dataframe thead th {\n",
       "        text-align: right;\n",
       "    }\n",
       "</style>\n",
       "<table border=\"1\" class=\"dataframe\">\n",
       "  <thead>\n",
       "    <tr style=\"text-align: right;\">\n",
       "      <th></th>\n",
       "      <th>Predicted</th>\n",
       "      <th>Actual</th>\n",
       "    </tr>\n",
       "  </thead>\n",
       "  <tbody>\n",
       "    <tr>\n",
       "      <th>0</th>\n",
       "      <td>3</td>\n",
       "      <td>3</td>\n",
       "    </tr>\n",
       "    <tr>\n",
       "      <th>1</th>\n",
       "      <td>5</td>\n",
       "      <td>5</td>\n",
       "    </tr>\n",
       "    <tr>\n",
       "      <th>2</th>\n",
       "      <td>8</td>\n",
       "      <td>8</td>\n",
       "    </tr>\n",
       "    <tr>\n",
       "      <th>3</th>\n",
       "      <td>3</td>\n",
       "      <td>3</td>\n",
       "    </tr>\n",
       "    <tr>\n",
       "      <th>4</th>\n",
       "      <td>5</td>\n",
       "      <td>5</td>\n",
       "    </tr>\n",
       "  </tbody>\n",
       "</table>\n",
       "</div>"
      ],
      "text/plain": [
       "   Predicted  Actual\n",
       "0          3       3\n",
       "1          5       5\n",
       "2          8       8\n",
       "3          3       3\n",
       "4          5       5"
      ]
     },
     "execution_count": 22,
     "metadata": {},
     "output_type": "execute_result"
    }
   ],
   "source": [
    "result = pd.DataFrame({\"Predicted\":pred,\"Actual\":Y_test})\n",
    "result.head()"
   ]
  },
  {
   "cell_type": "code",
   "execution_count": 23,
   "metadata": {},
   "outputs": [
    {
     "name": "stdout",
     "output_type": "stream",
     "text": [
      "Accuracy Score : 0.9888888888888889\n"
     ]
    }
   ],
   "source": [
    "from sklearn.metrics import accuracy_score\n",
    "print('Accuracy Score :',accuracy_score(Y_test,pred))"
   ]
  },
  {
   "cell_type": "code",
   "execution_count": null,
   "metadata": {},
   "outputs": [],
   "source": []
  },
  {
   "cell_type": "code",
   "execution_count": null,
   "metadata": {},
   "outputs": [],
   "source": []
  }
 ],
 "metadata": {
  "kernelspec": {
   "display_name": "Python 3",
   "language": "python",
   "name": "python3"
  },
  "language_info": {
   "codemirror_mode": {
    "name": "ipython",
    "version": 3
   },
   "file_extension": ".py",
   "mimetype": "text/x-python",
   "name": "python",
   "nbconvert_exporter": "python",
   "pygments_lexer": "ipython3",
   "version": "3.6.5"
  }
 },
 "nbformat": 4,
 "nbformat_minor": 2
}
