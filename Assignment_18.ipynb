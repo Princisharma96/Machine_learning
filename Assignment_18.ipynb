{
 "cells": [
  {
   "cell_type": "code",
   "execution_count": 1,
   "metadata": {},
   "outputs": [
    {
     "name": "stdout",
     "output_type": "stream",
     "text": [
      "F = (b+c)(a-1)\n"
     ]
    }
   ],
   "source": [
    "# question 1\n",
    "print('F = (b+c)(a-1)')"
   ]
  },
  {
   "cell_type": "code",
   "execution_count": 7,
   "metadata": {},
   "outputs": [
    {
     "data": {
      "text/plain": [
       "21.352800000000002"
      ]
     },
     "execution_count": 7,
     "metadata": {},
     "output_type": "execute_result"
    }
   ],
   "source": [
    "# question 2\n",
    "x1= -0.06\n",
    "x2= -2.5\n",
    "x3= 1.4\n",
    "\n",
    "w1= 2.5\n",
    "w2= -8.6\n",
    "w3= 0.002\n",
    "\n",
    "X=(x1*w1)+(x2*w2)+(x3*w3)\n",
    "X"
   ]
  },
  {
   "cell_type": "code",
   "execution_count": 3,
   "metadata": {},
   "outputs": [],
   "source": [
    "import math"
   ]
  },
  {
   "cell_type": "code",
   "execution_count": 4,
   "metadata": {},
   "outputs": [
    {
     "name": "stdout",
     "output_type": "stream",
     "text": [
      "0.99999999946716\n"
     ]
    }
   ],
   "source": [
    "fx=1/(1+math.exp(-X))\n",
    "print(fx)"
   ]
  },
  {
   "cell_type": "code",
   "execution_count": 12,
   "metadata": {},
   "outputs": [
    {
     "name": "stdout",
     "output_type": "stream",
     "text": [
      "0.999999999822633\n"
     ]
    }
   ],
   "source": [
    "bias= 1.1\n",
    "\n",
    "X_new= X+bias\n",
    "\n",
    "fx_new=1/(1+math.exp(-X_new))\n",
    "print(fx_new)"
   ]
  },
  {
   "cell_type": "code",
   "execution_count": null,
   "metadata": {},
   "outputs": [],
   "source": []
  }
 ],
 "metadata": {
  "kernelspec": {
   "display_name": "Python 3",
   "language": "python",
   "name": "python3"
  },
  "language_info": {
   "codemirror_mode": {
    "name": "ipython",
    "version": 3
   },
   "file_extension": ".py",
   "mimetype": "text/x-python",
   "name": "python",
   "nbconvert_exporter": "python",
   "pygments_lexer": "ipython3",
   "version": "3.6.5"
  }
 },
 "nbformat": 4,
 "nbformat_minor": 2
}
